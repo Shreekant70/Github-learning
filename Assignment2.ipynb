{
 "cells": [
  {
   "cell_type": "code",
   "execution_count": 1,
   "id": "3963f377",
   "metadata": {},
   "outputs": [
    {
     "name": "stdout",
     "output_type": "stream",
     "text": [
      "Longest consecutive subsequence: [6, 7, 8, 9, 10]\n"
     ]
    }
   ],
   "source": [
    "# Given a list of integers, write a function to find the longest subsequence of consecutive integers in the list and return that subsequence.\n",
    "\n",
    "nums = [1, 2, 3, 6, 7, 8, 9, 10, 12, 13, 14]\n",
    "\n",
    "longest_subsequence = find_longest_consecutive_subsequence(nums)\n",
    "print(\"Longest consecutive subsequence:\", longest_subsequence)\n"
   ]
  },
  {
   "cell_type": "code",
   "execution_count": 5,
   "id": "f04fffdf",
   "metadata": {},
   "outputs": [
    {
     "name": "stdout",
     "output_type": "stream",
     "text": [
      "[[0, 1, 4, 9, 16, 25, 36, 49, 64, 81, 100]]\n",
      "[[0, 1, 4, 9, 16, 25, 36, 49, 64, 81, 100]]\n",
      "[[0, 1, 4, 9, 16, 25, 36, 49, 64, 81, 100]]\n"
     ]
    }
   ],
   "source": [
    "#Create a list comprehension that generates a list of squares of even numbers from 1 to 20.\n",
    "def squares(start, end):  \n",
    "   squares = [value ** 2 for value in range(0, 11)]\n",
    "   return [squares]\n",
    "print(squares(2, 3))  \n",
    "print(squares(1, 5))  \n",
    "print(squares(0, 10))\n"
   ]
  },
  {
   "cell_type": "code",
   "execution_count": null,
   "id": "8369c73a",
   "metadata": {},
   "outputs": [],
   "source": []
  }
 ],
 "metadata": {
  "kernelspec": {
   "display_name": "Python 3 (ipykernel)",
   "language": "python",
   "name": "python3"
  },
  "language_info": {
   "codemirror_mode": {
    "name": "ipython",
    "version": 3
   },
   "file_extension": ".py",
   "mimetype": "text/x-python",
   "name": "python",
   "nbconvert_exporter": "python",
   "pygments_lexer": "ipython3",
   "version": "3.10.9"
  }
 },
 "nbformat": 4,
 "nbformat_minor": 5
}
