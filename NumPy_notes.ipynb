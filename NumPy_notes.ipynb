{
 "cells": [
  {
   "cell_type": "code",
   "execution_count": 3,
   "id": "b645c0c3",
   "metadata": {},
   "outputs": [
    {
     "name": "stdout",
     "output_type": "stream",
     "text": [
      "1.23.5\n"
     ]
    }
   ],
   "source": [
    "import numpy as np\n",
    "print(np.__version__)"
   ]
  },
  {
   "cell_type": "code",
   "execution_count": 10,
   "id": "f7b5ad1b",
   "metadata": {},
   "outputs": [
    {
     "name": "stdout",
     "output_type": "stream",
     "text": [
      "[50]\n",
      "[1 2 3]\n",
      "[[ 1  5  6]\n",
      " [ 7  8 89]]\n",
      "[[[1 5 8]\n",
      "  [4 5 9]]\n",
      "\n",
      " [[4 5 6]\n",
      "  [5 6 8]]]\n"
     ]
    }
   ],
   "source": [
    "#1Dimensional and 2Dimensional\n",
    "#create 0D array\n",
    "a1=np.array([50])\n",
    "print(a1)\n",
    "#create 1D array\n",
    "a=np.array([1,2,3])\n",
    "print((a))\n",
    "#create 2D array\n",
    "b=np.array([[1,5,6],[7,8,89]])\n",
    "print(b)\n",
    "#create 3D array\n",
    "b1=np.array([[[1,5,8],[4,5,9]],[[4,5,6],[5,6,8]]])\n",
    "print(b1)"
   ]
  },
  {
   "cell_type": "code",
   "execution_count": 10,
   "id": "ca375582",
   "metadata": {},
   "outputs": [
    {
     "name": "stdout",
     "output_type": "stream",
     "text": [
      "1\n",
      "9\n"
     ]
    }
   ],
   "source": [
    "# using python in numpy \n",
    "my_list=[1,5,7,8,9]\n",
    "my_array=np.array(my_list)\n",
    "#Accessing elements of the numpy array\n",
    "print(my_array[0])\n",
    "print(my_array[4])"
   ]
  },
  {
   "cell_type": "code",
   "execution_count": 12,
   "id": "ecf3072e",
   "metadata": {},
   "outputs": [
    {
     "name": "stdout",
     "output_type": "stream",
     "text": [
      "[ 6 11 15]\n"
     ]
    }
   ],
   "source": [
    "#Example adding to array\n",
    "arr1=np.array([1,5,6])\n",
    "arr2=np.array([5,6,9])\n",
    "arr_sum=arr1+arr2\n",
    "print(arr_sum)"
   ]
  },
  {
   "cell_type": "code",
   "execution_count": 18,
   "id": "501890bc",
   "metadata": {},
   "outputs": [
    {
     "name": "stdout",
     "output_type": "stream",
     "text": [
      "[1 5 6 7]\n",
      "[[7 5 6]\n",
      " [8 9 8]\n",
      " [1 2 3]]\n",
      "[[0.875 1.    1.   ]\n",
      " [8.    1.    1.   ]\n",
      " [1.    2.    1.   ]]\n"
     ]
    }
   ],
   "source": [
    "# sequential array and matrices array use in NumPy\n",
    "a=np.array([1,5,6,7])\n",
    "print(a)\n",
    "b=np.array([[7,5,6],[8,9,8],[1,2,3]])\n",
    "print(b)\n",
    "c=np.array([[8,5,6],[1,9,8],[1,1,3]])\n",
    "arr_sum=b/c\n",
    "print(arr_sum)"
   ]
  },
  {
   "cell_type": "code",
   "execution_count": 21,
   "id": "32f38723",
   "metadata": {},
   "outputs": [
    {
     "name": "stdout",
     "output_type": "stream",
     "text": [
      "[1 5 6 2 5 7 1 5 8]\n"
     ]
    }
   ],
   "source": [
    "#Concatenate:is list which is made in array combine all the value in 1D array\n",
    "arr1=np.array([1,5,6])\n",
    "arr2=np.array([2,5,7])\n",
    "arr3=np.array([1,5,8])\n",
    "concatenate_arr=np.concatenate((arr1,arr2,arr3))\n",
    "print(concatenate_arr)\n"
   ]
  },
  {
   "cell_type": "code",
   "execution_count": 7,
   "id": "38095658",
   "metadata": {},
   "outputs": [
    {
     "name": "stdout",
     "output_type": "stream",
     "text": [
      "[12 55  6] <class 'numpy.ndarray'>\n",
      "[12 55  6] <class 'numpy.ndarray'>\n",
      "{12, 6, 55} <class 'numpy.ndarray'>\n"
     ]
    }
   ],
   "source": [
    "arr_list=np.array([12,55,6])\n",
    "arr_tuple=np.array((12,55,6))\n",
    "arr_set=np.array({12,55,6})\n",
    "print(arr_list,type(arr_list))\n",
    "print(arr_tuple,type(arr_tuple))\n",
    "print(arr_set,type(arr_set))"
   ]
  },
  {
   "cell_type": "code",
   "execution_count": null,
   "id": "a12bd2ba",
   "metadata": {},
   "outputs": [],
   "source": []
  }
 ],
 "metadata": {
  "kernelspec": {
   "display_name": "Python 3 (ipykernel)",
   "language": "python",
   "name": "python3"
  },
  "language_info": {
   "codemirror_mode": {
    "name": "ipython",
    "version": 3
   },
   "file_extension": ".py",
   "mimetype": "text/x-python",
   "name": "python",
   "nbconvert_exporter": "python",
   "pygments_lexer": "ipython3",
   "version": "3.10.9"
  }
 },
 "nbformat": 4,
 "nbformat_minor": 5
}
